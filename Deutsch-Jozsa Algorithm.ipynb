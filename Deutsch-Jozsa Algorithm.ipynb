{
 "cells": [
  {
   "cell_type": "markdown",
   "metadata": {},
   "source": [
    "# Deutsch-Jozsa Algorithm\n",
    "\n",
    "The Deutsch-Jozsa Algorithm is another simple quantum algorithm that builds upon Deutsch's algorithm. It solves the following (again slightly contrived) problem: given a black box containing a function from $\\{0, 1\\}^n \\rightarrow \\{0, 1\\}$, determine whether the mystery function is contant or balanced. That is determine if all inputs map to 0 or 1, or half map to 1 and half map to 0. In fact, Deutsch's algorithm is just this algorithm when $n = 1$. \n",
    "\n",
    "Classically, it would take $2^{n-1} + 1$ function calls to determine the answer. We can reduce the number of calls needed to only one--for all values of $n$!\n",
    "\n",
    "We utilize the same strategy in Deutsch's algorithm to make a valid quantum oracle. We implement the oracle as $U_f|\\textbf{x},y\\rangle = |x, y\\oplus \\textbf{f(x)}\\rangle$, where the bolded $x$ and $f(x)$ represent $n$ bits. get_mystery_function(n) takes $n$ as a parameter and generates a $2^{n+1} \\times 2^{n+1}$ unitary matrix to be used as the oracle.\n",
    "\n",
    "It works by first randomly deciding whether the function is contant or balanced. If it is balanced, half of the values from 0 to $2^n - 1$ are randomly chosen to be mapped to one. It then loops through the $2^{n+1}$ bitstrings in the domain. In this bitstring, the first bit represents the ancillary qubit $y$, while the following $n$ bits represent the remaining $n$ qubits. If the decimal representation of these remaining bits is in the randomly chosen list of inputs to map to one, then the ancillary qubit is XORd with 1, as per the definition of $U_f$. e.g. imagine that the function maps all inputs to 1. Then the $|0\\textbf{x}\\rangle$ state would map to $|0\\otimes 1, \\textbf{x}\\rangle = |1\\textbf{x}\\rangle$. This mapping is different than is described in many textbooks because Qiskit has the 0th qubit as the least significant bit."
   ]
  },
  {
   "cell_type": "code",
   "execution_count": 2,
   "metadata": {},
   "outputs": [],
   "source": [
    "import itertools\n",
    "import numpy as np\n",
    "import random\n",
    "from qiskit import *\n",
    "from qiskit import Aer\n",
    "from qiskit.quantum_info.operators import Operator"
   ]
  },
  {
   "cell_type": "code",
   "execution_count": 12,
   "metadata": {},
   "outputs": [],
   "source": [
    "def get_mystery_function(n):\n",
    "    get_bin = lambda x, n: format(x, 'b').zfill(n)\n",
    "\n",
    "    op_list = []\n",
    "    op = np.zeros((2**(n+1), 2**(n+1)))\n",
    "\n",
    "    if (random.choice([True, False])):\n",
    "        # constant\n",
    "        if (random.choice([True, False])):\n",
    "            print('Contant 1\\'s')\n",
    "            op_list = list(range(2**n))\n",
    "        else:\n",
    "            print('Constant 0\\'s')\n",
    "            op_list = []\n",
    "    else:\n",
    "        # balanced\n",
    "        print('Balanced')\n",
    "        op_list = random.sample(range(2**n), n)\n",
    "   \n",
    "    # check if last n bits are in op_list\n",
    "    # if yes, replace first bit with first bit XOR 1\n",
    "    for i in range(2**(n+1)):\n",
    "        if (int(get_bin(i, n+1)[1:], 2) in op_list):\n",
    "            op[i][int(str(int(get_bin(i, n+1)[0]) ^ 1) + get_bin(i, n+1)[1:], 2)] = 1\n",
    "        else:\n",
    "            op[i][int(str(int(get_bin(i, n+1)[0]) ^ 0) + get_bin(i, n+1)[1:], 2)] = 1\n",
    "    return op"
   ]
  },
  {
   "cell_type": "code",
   "execution_count": 13,
   "metadata": {},
   "outputs": [
    {
     "name": "stdout",
     "output_type": "stream",
     "text": [
      "Constant 0's\n"
     ]
    },
    {
     "data": {
      "text/plain": [
       "<qiskit.circuit.instructionset.InstructionSet at 0x1cc76c32b38>"
      ]
     },
     "execution_count": 13,
     "metadata": {},
     "output_type": "execute_result"
    }
   ],
   "source": [
    "# number of bits to use in mystery function\n",
    "n = 2\n",
    "\n",
    "q = QuantumCircuit(n+1)\n",
    "func = get_mystery_function(n)\n",
    "op = Operator(func)\n",
    "\n",
    "q.h(list(range(n)))\n",
    "q.x(n)\n",
    "q.h(n)\n",
    "q.unitary(op, list(range(n+1)))\n",
    "q.h(list(range(n)))"
   ]
  },
  {
   "cell_type": "code",
   "execution_count": 14,
   "metadata": {},
   "outputs": [
    {
     "data": {
      "text/html": [
       "<pre style=\"word-wrap: normal;white-space: pre;background: #fff0;line-height: 1.1;font-family: &quot;Courier New&quot;,Courier,monospace\">        ┌───┐     ┌──────────┐┌───┐\n",
       "q_0: |0>┤ H ├─────┤0         ├┤ H ├\n",
       "        ├───┤     │          │├───┤\n",
       "q_1: |0>┤ H ├─────┤1 unitary ├┤ H ├\n",
       "        ├───┤┌───┐│          │└───┘\n",
       "q_2: |0>┤ X ├┤ H ├┤2         ├─────\n",
       "        └───┘└───┘└──────────┘     </pre>"
      ],
      "text/plain": [
       "<qiskit.visualization.text.TextDrawing at 0x1cc76c147f0>"
      ]
     },
     "execution_count": 14,
     "metadata": {},
     "output_type": "execute_result"
    }
   ],
   "source": [
    "q.draw()"
   ]
  },
  {
   "cell_type": "code",
   "execution_count": 15,
   "metadata": {},
   "outputs": [
    {
     "data": {
      "text/html": [
       "<pre style=\"word-wrap: normal;white-space: pre;background: #fff0;line-height: 1.1;font-family: &quot;Courier New&quot;,Courier,monospace\">        ┌───┐     ┌──────────┐┌───┐ ░ ┌─┐      \n",
       "q_0: |0>┤ H ├─────┤0         ├┤ H ├─░─┤M├──────\n",
       "        ├───┤     │          │├───┤ ░ └╥┘┌─┐   \n",
       "q_1: |0>┤ H ├─────┤1 unitary ├┤ H ├─░──╫─┤M├───\n",
       "        ├───┤┌───┐│          │└───┘ ░  ║ └╥┘┌─┐\n",
       "q_2: |0>┤ X ├┤ H ├┤2         ├──────░──╫──╫─┤M├\n",
       "        └───┘└───┘└──────────┘      ░  ║  ║ └╥┘\n",
       " c_0: 0 ═══════════════════════════════╩══╬══╬═\n",
       "                                          ║  ║ \n",
       " c_1: 0 ══════════════════════════════════╩══╬═\n",
       "                                             ║ \n",
       " c_2: 0 ═════════════════════════════════════╩═\n",
       "                                               </pre>"
      ],
      "text/plain": [
       "<qiskit.visualization.text.TextDrawing at 0x1cc76c2f208>"
      ]
     },
     "execution_count": 15,
     "metadata": {},
     "output_type": "execute_result"
    }
   ],
   "source": [
    "meas = QuantumCircuit(n+1, n+1)\n",
    "meas.barrier(range(n+1))\n",
    "# map the quantum measurement to the classical bits\n",
    "meas.measure(range(n+1),range(n+1))\n",
    "qc = q+meas\n",
    "qc.draw()"
   ]
  },
  {
   "cell_type": "code",
   "execution_count": 16,
   "metadata": {},
   "outputs": [],
   "source": [
    "backend_sim = Aer.get_backend('qasm_simulator')\n",
    "job_sim = execute(qc, backend_sim, shots=1024)\n",
    "result_sim = job_sim.result()"
   ]
  },
  {
   "cell_type": "code",
   "execution_count": 17,
   "metadata": {},
   "outputs": [
    {
     "name": "stdout",
     "output_type": "stream",
     "text": [
      "{'000': 512, '100': 512}\n"
     ]
    }
   ],
   "source": [
    "# First  bits are the answer\n",
    "counts = result_sim.get_counts(qc)\n",
    "print(counts)"
   ]
  },
  {
   "cell_type": "markdown",
   "metadata": {},
   "source": [
    "Let's start in the arbitrary state where the ancillary qubit is 1 and the other $n$ are irrelevant. \n",
    "\n",
    "$$|\\Psi_0\\rangle = |1\\textbf{x}\\rangle$$\n",
    "\n",
    "Placing the ancillary qubit in a superposition gives.\n",
    "\n",
    "$$|\\Psi_1\\rangle = H \\otimes I^{\\otimes n} = \\Big[\\frac{|0\\rangle - |1\\rangle}{\\sqrt{2}}\\Big]|\\textbf{x}\\rangle$$\n",
    "\n",
    "After apply $U_f$ to $|\\Psi_1\\rangle$ we get:\n",
    "\n",
    "$$|\\Psi_2\\rangle = U_f |\\Psi_1\\rangle = \\Bigg( \\frac{|0 \\oplus f(\\textbf{x})\\rangle-|1 \\oplus f(\\textbf{x})\\rangle}{\\sqrt{2}} \\Bigg)  |x\\rangle = \\Bigg( \\frac{|f(\\textbf{x})\\rangle-|\\overline{f(\\textbf{x})}\\rangle}{\\sqrt{2}} \\Bigg)  |\\textbf{x}\\rangle$$\n",
    "\n",
    "$$= \\begin{cases}\n",
    "    \\Big(\\frac{|0\\rangle - |1\\rangle}{\\sqrt{2}} \\Big) |\\textbf{x}\\rangle,& \\text{if $f(\\textbf{x}) = 0$} \\\\\n",
    "    \\Big(\\frac{|1\\rangle - |0\\rangle}{\\sqrt{2}} \\Big) |\\textbf{x}\\rangle,& \\text{if $f(\\textbf{x}) = 1$}\n",
    "\\end{cases}$$\n",
    "\n",
    "$$= \\Big(\\frac{|0\\rangle - |1\\rangle}{\\sqrt{2}} \\Big) (-1)^{f(\\textbf{x})}|\\textbf{x}\\rangle$$\n",
    "\n",
    "This is almost exactly the same as Deutsch's algorithm, just that there is a register of $n$ bits to deal with now."
   ]
  },
  {
   "cell_type": "markdown",
   "metadata": {},
   "source": [
    "Lets do the matrix multiplication again because I like seeing the math work out. We'll work through the smallest non-trivial problem where $n = 2$. We'll use a constant operation so that we can see all of the top qubits interfere to collapse into $|\\textbf{0}\\rangle$. \n",
    "\n",
    "$$|\\Psi_0\\rangle = |1\\rangle \\otimes |0\\rangle \\otimes |0\\rangle = \\begin{bmatrix} 0 \\\\ 1 \\end{bmatrix} \\otimes \\begin{bmatrix} 1 \\\\ 0 \\end{bmatrix} \\otimes \\begin{bmatrix} 1 \\\\ 0 \\end{bmatrix} = \\begin{bmatrix} 0\\\\0\\\\0\\\\0\\\\1\\\\0\\\\0\\\\0 \\end{bmatrix} \\quad |100\\rangle$$\n",
    "\n",
    "$$|\\Psi_1\\rangle = H \\otimes H^{\\otimes n} |\\Psi_0\\rangle = \\frac{1}{2\\sqrt{2}} \\begin{bmatrix} 1&1&1&1&1&1&1&1 \\\\ 1&-1&1&-1&1&-1&1&-1 \\\\ 1&1&-1&-1&1&1&-1&-1 \\\\ 1&-1&-1&1&1&-1&-1&1 \\\\ 1&1&1&1&-1&-1&-1&-1 \\\\ 1&-1&1&-1&-1&1&-1&1 \\\\ 1&1&-1&-1&-1&-1&1&1 \\\\ 1&-1&-1&1&-1&1&1&-1 \\end{bmatrix} \\begin{bmatrix} 0\\\\0\\\\0\\\\0\\\\1\\\\0\\\\0\\\\0 \\end{bmatrix} = \\frac{1}{2\\sqrt{2}} \\begin{bmatrix} 1\\\\1\\\\1\\\\1\\\\-1\\\\-1\\\\-1\\\\-1 \\end{bmatrix} $$\n",
    "\n",
    "$$|\\Psi_2\\rangle = U_f |\\Psi_1\\rangle = \\begin{bmatrix} 0&0&0&0&1&0&0&0 \\\\ 0&0&0&0&0&1&0&0 \\\\ 0&0&0&0&0&0&1&0 \\\\ 0&0&0&0&0&0&0&1 \\\\ 1&0&0&0&0&0&0&0 \\\\ 0&1&0&0&0&0&0&0 \\\\ 0&0&1&0&0&0&0&0 \\\\ 0&0&0&1&0&0&0&0 \\end{bmatrix} \\frac{1}{2\\sqrt{2}} \\begin{bmatrix} 1\\\\1\\\\1\\\\1\\\\-1\\\\-1\\\\-1\\\\-1 \\end{bmatrix} = \\frac{1}{2\\sqrt{2}} \\begin{bmatrix} -1\\\\-1\\\\-1\\\\-1\\\\1\\\\1\\\\1\\\\1 \\end{bmatrix}$$\n",
    "\n",
    "$$|\\Psi_3\\rangle = I \\otimes H^{\\otimes n} |\\Psi_2\\rangle = \\frac{1}{2} \\begin{bmatrix} 1&1&1&1&0&0&0&0 \\\\ 1&-1&1&-1&0&0&0&0 \\\\ 1&1&-1&-1&0&0&0&0 \\\\ 1&-1&-1&1&0&0&0&0 \\\\ 0&0&0&0&1&1&1&1 \\\\ 0&0&0&0&1&-1&1&-1 \\\\ 0&0&0&0&1&1&-1&-1 \\\\ 0&0&0&0&1&-1&-1&1 \\end{bmatrix} \\frac{1}{2\\sqrt{2}} \\begin{bmatrix} -1\\\\-1\\\\-1\\\\-1\\\\1\\\\1\\\\1\\\\1 \\end{bmatrix} = \\frac{1}{\\sqrt{2}}\\begin{bmatrix} -1\\\\0\\\\0\\\\0\\\\1\\\\0\\\\0\\\\0 \\end{bmatrix} \\quad \\Big[\\frac{|1\\rangle - |0\\rangle}{\\sqrt{2}}\\Big] |00\\rangle $$\n",
    "\n",
    "The math works out again! Although it is kind of excessive."
   ]
  },
  {
   "cell_type": "code",
   "execution_count": null,
   "metadata": {},
   "outputs": [],
   "source": []
  }
 ],
 "metadata": {
  "kernelspec": {
   "display_name": "Python 3",
   "language": "python",
   "name": "python3"
  }
 },
 "nbformat": 4,
 "nbformat_minor": 2
}
