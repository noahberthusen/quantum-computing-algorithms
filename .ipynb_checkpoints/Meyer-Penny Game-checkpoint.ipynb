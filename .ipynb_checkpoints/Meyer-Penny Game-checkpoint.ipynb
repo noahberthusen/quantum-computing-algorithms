{
 "cells": [
  {
   "cell_type": "markdown",
   "metadata": {},
   "source": [
    "# Meyer-Penny Game\n",
    "Rules of the game: <br>\n",
    "<ul>\n",
    "    <li>Place a penny heads up in a box</li>\n",
    "    <li>Q gets to flip the penny</li>\n",
    "    <li>Then Picard gets to flip the penny</li>\n",
    "    <li>Finally, Q gets to flip the penny again</li> \n",
    "    <li>If the penny is heads, Q wins, otherwise Picard wins</li>\n",
    "</ul>\n",
    "The game seems fair at first look; however, Q can employ a quantum strategy that always gives him the win. <br>\n",
    "Let heads be represented by $|1\\rangle$ and tails by $|0\\rangle$. The coin starts in state $|1\\rangle$. Instead of flipping the coin classically (using a Pauli X gate), Q applies the Hadamard gate, and the coin put into a superposition. <br>\n",
    "\n",
    "$$H|1\\rangle = \\frac{|0\\rangle - |1\\rangle}{\\sqrt{2}} = |-\\rangle$$\n",
    "\n",
    "Picard can then either choose to flip or not flip the coin resulting in one of the following two states\n",
    "\n",
    "$$X|-\\rangle = \\frac{|1\\rangle - |0\\rangle}{\\sqrt{2}} \\quad I|-\\rangle = \\frac{|0\\rangle - |1\\rangle}{\\sqrt{2}}$$\n",
    "\n",
    "Since the global phase is ignored, applying another Hadamard gate during Q's turn will return the coin back to the $|1\\rangle$ state, always guaranteeing Q the win."
   ]
  },
  {
   "cell_type": "code",
   "execution_count": 1,
   "metadata": {},
   "outputs": [],
   "source": [
    "import numpy as np\n",
    "from qiskit import *\n",
    "from qiskit import Aer\n",
    "%matplotlib inline"
   ]
  },
  {
   "cell_type": "code",
   "execution_count": 3,
   "metadata": {},
   "outputs": [],
   "source": [
    "q = QuantumCircuit(2)"
   ]
  },
  {
   "cell_type": "code",
   "execution_count": 4,
   "metadata": {},
   "outputs": [
    {
     "data": {
      "text/plain": [
       "<qiskit.circuit.instructionset.InstructionSet at 0x1e77edd6d68>"
      ]
     },
     "execution_count": 4,
     "metadata": {},
     "output_type": "execute_result"
    }
   ],
   "source": [
    "q.h(0)\n",
    "q.x(1)\n",
    "q.h(1)\n",
    "q.cx(0,1)\n",
    "q.h(1)"
   ]
  },
  {
   "cell_type": "code",
   "execution_count": 5,
   "metadata": {},
   "outputs": [
    {
     "data": {
      "text/html": [
       "<pre style=\"word-wrap: normal;white-space: pre;background: #fff0;line-height: 1.1;font-family: &quot;Courier New&quot;,Courier,monospace\">        ┌───┐               \n",
       "q_0: |0>┤ H ├───────■───────\n",
       "        ├───┤┌───┐┌─┴─┐┌───┐\n",
       "q_1: |0>┤ X ├┤ H ├┤ X ├┤ H ├\n",
       "        └───┘└───┘└───┘└───┘</pre>"
      ],
      "text/plain": [
       "<qiskit.visualization.text.TextDrawing at 0x1e77edd6780>"
      ]
     },
     "execution_count": 5,
     "metadata": {},
     "output_type": "execute_result"
    }
   ],
   "source": [
    "q.draw()"
   ]
  },
  {
   "cell_type": "code",
   "execution_count": 6,
   "metadata": {},
   "outputs": [
    {
     "data": {
      "text/html": [
       "<pre style=\"word-wrap: normal;white-space: pre;background: #fff0;line-height: 1.1;font-family: &quot;Courier New&quot;,Courier,monospace\">        ┌───┐                ░ ┌─┐   \n",
       "q_0: |0>┤ H ├───────■────────░─┤M├───\n",
       "        ├───┤┌───┐┌─┴─┐┌───┐ ░ └╥┘┌─┐\n",
       "q_1: |0>┤ X ├┤ H ├┤ X ├┤ H ├─░──╫─┤M├\n",
       "        └───┘└───┘└───┘└───┘ ░  ║ └╥┘\n",
       " c_0: 0 ════════════════════════╩══╬═\n",
       "                                   ║ \n",
       " c_1: 0 ═══════════════════════════╩═\n",
       "                                     </pre>"
      ],
      "text/plain": [
       "<qiskit.visualization.text.TextDrawing at 0x1e77edf5780>"
      ]
     },
     "execution_count": 6,
     "metadata": {},
     "output_type": "execute_result"
    }
   ],
   "source": [
    "meas = QuantumCircuit(2, 2)\n",
    "meas.barrier(range(2))\n",
    "# map the quantum measurement to the classical bits\n",
    "meas.measure(range(2),range(2))\n",
    "qc = q+meas\n",
    "qc.draw()"
   ]
  },
  {
   "cell_type": "code",
   "execution_count": 7,
   "metadata": {},
   "outputs": [],
   "source": [
    "backend_sim = Aer.get_backend('qasm_simulator')\n",
    "job_sim = execute(qc, backend_sim, shots=1024)\n",
    "result_sim = job_sim.result()"
   ]
  },
  {
   "cell_type": "code",
   "execution_count": 8,
   "metadata": {},
   "outputs": [
    {
     "name": "stdout",
     "output_type": "stream",
     "text": [
      "{'10': 516, '11': 508}\n"
     ]
    }
   ],
   "source": [
    "counts = result_sim.get_counts(qc)\n",
    "print(counts)"
   ]
  },
  {
   "cell_type": "markdown",
   "metadata": {},
   "source": [
    "For completeness, let's step through the circuit to see how the math works out. The circuit starts out with both qubits initialized to the zero state. \n",
    "\n",
    "$$|\\Psi_0\\rangle = |0\\rangle \\otimes |0\\rangle = \\begin{bmatrix} 1 \\\\ 0 \\end{bmatrix} \\otimes \\begin{bmatrix} 1 \\\\ 0 \\end{bmatrix} = \\begin{bmatrix} 1\\\\0\\\\0\\\\0 \\end{bmatrix} \\quad |00\\rangle$$\n",
    "\n",
    "Applying the Hadamard matrix to the top input and the Pauli X to the bottom input gives the state below. In this state, qubit one will always be in state $|1\\rangle$, but qubit zero has a 50/50 probability of being in either state. The Hadamard is to represent Picard's choice to either flip or not flip the coin.\n",
    "\n",
    "$$|\\Psi_1\\rangle = H \\otimes X |\\Psi_0\\rangle = \\frac{1}{\\sqrt{2}}\\begin{bmatrix} 0&1&0&1 \\\\ 1&0&1&0 \\\\ 0&1&0&-1 \\\\ 1&0&-1&0 \\end{bmatrix} \\begin{bmatrix} 1\\\\0\\\\0\\\\0 \\end{bmatrix} = \\frac{1}{\\sqrt{2}} \\begin{bmatrix} 0\\\\1\\\\0\\\\1 \\end{bmatrix} \\quad \\frac{|01\\rangle + |11\\rangle}{\\sqrt{2}}$$\n",
    "\n",
    "In the next step we apply the Hadamard matrix to qubit one to represent Q's sneaky trick to flip the coin non-traditionally.\n",
    "\n",
    "$$|\\Psi_2\\rangle = I \\otimes H |\\Psi_1\\rangle = \\frac{1}{\\sqrt{2}}\\begin{bmatrix} 1&1&0&0 \\\\ 1&-1&0&1 \\\\ 0&0&1&1 \\\\ 0&0&1&-1 \\end{bmatrix} \\frac{1}{\\sqrt{2}} \\begin{bmatrix} 0\\\\1\\\\0\\\\1 \\end{bmatrix} = \\frac{1}{2} \\begin{bmatrix} 1\\\\-1\\\\1\\\\-1 \\end{bmatrix} \\quad \\frac{|00\\rangle - |01\\rangle+|10\\rangle - |11\\rangle}{2}$$\n",
    "\n",
    "We then apply a CNOT gate with qubit zero as the control bit and qubit one as the target bit. Depending on Picard's choice whether or not to flip the coin (using the Hadamard gate), qubit one will be flipped or not.\n",
    "\n",
    "$$|\\Psi_3\\rangle = CNOT(0,1)|\\Psi_2\\rangle = \\begin{bmatrix} 1&0&0&0 \\\\ 0&1&0&0 \\\\ 0&0&0&1 \\\\ 0&0&1&0 \\end{bmatrix} \\frac{1}{2} \\begin{bmatrix} 1\\\\-1\\\\1\\\\-1 \\end{bmatrix} = \\frac{1}{2} \\begin{bmatrix} 1\\\\-1\\\\-1\\\\1 \\end{bmatrix} \\quad \\frac{|00\\rangle - |01\\rangle-|10\\rangle + |11\\rangle}{2}$$\n",
    "\n",
    "Applying a final Hadamard gate as Q's last move brings us back to $|\\Psi_1\\rangle$. Again, the global phase is ignored, and qubit one will always be in state $|1\\rangle$. Qubit zero still has a 50/50 probability of being in either state. Therefore Q always wins.\n",
    "\n",
    "$$|\\Psi_4\\rangle = I \\otimes H |\\Psi_3\\rangle = \\frac{1}{\\sqrt{2}}\\begin{bmatrix} 1&1&0&0 \\\\ 1&-1&0&1 \\\\ 0&0&1&1 \\\\ 0&0&1&-1 \\end{bmatrix} \\frac{1}{2} \\begin{bmatrix} 1\\\\-1\\\\-1\\\\1 \\end{bmatrix} = \\frac{1}{\\sqrt{2}} \\begin{bmatrix} 0\\\\1\\\\0\\\\-1 \\end{bmatrix} \\quad \\frac{|01\\rangle - |11\\rangle}{\\sqrt{2}}$$"
   ]
  },
  {
   "cell_type": "code",
   "execution_count": null,
   "metadata": {},
   "outputs": [],
   "source": []
  }
 ],
 "metadata": {
  "kernelspec": {
   "display_name": "Python 3",
   "language": "python",
   "name": "python3"
  },
  "language_info": {
   "codemirror_mode": {
    "name": "ipython",
    "version": 3
   },
   "file_extension": ".py",
   "mimetype": "text/x-python",
   "name": "python",
   "nbconvert_exporter": "python",
   "pygments_lexer": "ipython3",
   "version": "3.6.7"
  }
 },
 "nbformat": 4,
 "nbformat_minor": 2
}
