{
 "cells": [
  {
   "cell_type": "markdown",
   "metadata": {},
   "source": [
    "# Deutsch's Algorithm\n",
    "\n",
    "Deutsch's Algorithm is a simple quantum algorithm that solves a slightly contrived problem. However, it does solve it more efficiently than is possible on any classical computer. Given a function $f: \\{0, 1\\} \\rightarrow \\{0, 1\\}$, there are four possible function. Two of those function are constant (they map to the same value), and the other two are balanced (and also bijective). The problem is that given one of these functions in a black box, determine whether the mystery function is constant or balanced. \n",
    "\n",
    "Classically, it would take two calls to the black box to determine the answer--$f(0)$ and $f(1)$. Using the power of superposition, we can reduce the number of calls to the black box to only one.\n",
    "\n",
    "To make this quantum oracle a valid quantum, unitary gate, we implement it as $U_f|x,y\\rangle = |x, y\\oplus f(x)\\rangle$, leading to the operators below for each of the four functions."
   ]
  },
  {
   "cell_type": "code",
   "execution_count": 2,
   "metadata": {},
   "outputs": [],
   "source": [
    "import numpy as np\n",
    "from qiskit import *\n",
    "from qiskit import Aer\n",
    "from qiskit.quantum_info.operators import Operator\n",
    "%matplotlib inline"
   ]
  },
  {
   "cell_type": "code",
   "execution_count": 3,
   "metadata": {},
   "outputs": [],
   "source": [
    "balanced_op1 = Operator([[1,0,0,0],   # 0 -> 0\n",
    "                         [0,0,0,1],   # 1 -> 1\n",
    "                         [0,0,1,0],\n",
    "                         [0,1,0,0]])\n",
    "\n",
    "balanced_op2 = Operator([[0,0,1,0],   # 0 -> 1\n",
    "                         [0,1,0,0],   # 1 -> 0\n",
    "                         [1,0,0,0],\n",
    "                         [0,0,0,1]])\n",
    "\n",
    "constant_op1 = Operator([[1,0,0,0],   # 0 -> 0\n",
    "                         [0,1,0,0],   # 1 -> 0\n",
    "                         [0,0,1,0],\n",
    "                         [0,0,0,1]])\n",
    "\n",
    "constant_op2 = Operator([[0,1,0,0],   # 0 -> 1\n",
    "                         [1,0,0,0],   # 1 -> 1\n",
    "                         [0,0,0,1],\n",
    "                         [0,0,1,0]])"
   ]
  },
  {
   "cell_type": "code",
   "execution_count": 4,
   "metadata": {},
   "outputs": [
    {
     "data": {
      "text/plain": [
       "<qiskit.circuit.instructionset.InstructionSet at 0x1c1d71dfa90>"
      ]
     },
     "execution_count": 4,
     "metadata": {},
     "output_type": "execute_result"
    }
   ],
   "source": [
    "q = QuantumCircuit(2)\n",
    "\n",
    "q.h(0)\n",
    "q.x(1)\n",
    "q.h(1)\n",
    "q.unitary(balanced_op1, [0, 1])\n",
    "q.h(0)"
   ]
  },
  {
   "cell_type": "code",
   "execution_count": 5,
   "metadata": {},
   "outputs": [
    {
     "data": {
      "text/html": [
       "<pre style=\"word-wrap: normal;white-space: pre;background: #fff0;line-height: 1.1;font-family: &quot;Courier New&quot;,Courier,monospace\">        ┌───┐     ┌──────────┐┌───┐\n",
       "q_0: |0>┤ H ├─────┤0         ├┤ H ├\n",
       "        ├───┤┌───┐│  unitary │└───┘\n",
       "q_1: |0>┤ X ├┤ H ├┤1         ├─────\n",
       "        └───┘└───┘└──────────┘     </pre>"
      ],
      "text/plain": [
       "<qiskit.visualization.text.TextDrawing at 0x1c1d71dfe10>"
      ]
     },
     "execution_count": 5,
     "metadata": {},
     "output_type": "execute_result"
    }
   ],
   "source": [
    "q.draw()"
   ]
  },
  {
   "cell_type": "code",
   "execution_count": 6,
   "metadata": {},
   "outputs": [
    {
     "data": {
      "text/html": [
       "<pre style=\"word-wrap: normal;white-space: pre;background: #fff0;line-height: 1.1;font-family: &quot;Courier New&quot;,Courier,monospace\">        ┌───┐     ┌──────────┐┌───┐ ░ ┌─┐\n",
       "q_0: |0>┤ H ├─────┤0         ├┤ H ├─░─┤M├\n",
       "        ├───┤┌───┐│  unitary │└───┘ ░ └╥┘\n",
       "q_1: |0>┤ X ├┤ H ├┤1         ├──────░──╫─\n",
       "        └───┘└───┘└──────────┘      ░  ║ \n",
       " c_0: 0 ═══════════════════════════════╩═\n",
       "                                         </pre>"
      ],
      "text/plain": [
       "<qiskit.visualization.text.TextDrawing at 0x1c1d71f6eb8>"
      ]
     },
     "execution_count": 6,
     "metadata": {},
     "output_type": "execute_result"
    }
   ],
   "source": [
    "meas = QuantumCircuit(2, 1)\n",
    "meas.barrier(range(2))\n",
    "# map the quantum measurement to the classical bits\n",
    "meas.measure(range(1),range(1))\n",
    "qc = q+meas\n",
    "qc.draw()"
   ]
  },
  {
   "cell_type": "code",
   "execution_count": 7,
   "metadata": {},
   "outputs": [],
   "source": [
    "backend_sim = Aer.get_backend('qasm_simulator')\n",
    "job_sim = execute(qc, backend_sim, shots=1024)\n",
    "result_sim = job_sim.result()"
   ]
  },
  {
   "cell_type": "code",
   "execution_count": 8,
   "metadata": {},
   "outputs": [
    {
     "name": "stdout",
     "output_type": "stream",
     "text": [
      "{'1': 1024}\n"
     ]
    }
   ],
   "source": [
    "counts = result_sim.get_counts(qc)\n",
    "print(counts)"
   ]
  },
  {
   "cell_type": "markdown",
   "metadata": {},
   "source": [
    "$$|\\Psi_0\\rangle = |10\\rangle$$\n",
    "\n",
    "$$|\\Psi_1\\rangle = H \\otimes H |\\Psi_0\\rangle = \\Big[\\frac{|0\\rangle - |1\\rangle}{\\sqrt{2}}\\Big]\\Big[\\frac{|0\\rangle + |1\\rangle}{\\sqrt{2}}\\Big]$$\n",
    "\n",
    "Forget for a minute that qubit zero is in a superposition and instead consider it in state $|x\\rangle$. After apply $U_f$ to $|\\Psi_1\\rangle$ we get:\n",
    "\n",
    "$$|\\Psi_2\\rangle = U_f |\\Psi_1\\rangle = \\Bigg( \\frac{|0 \\oplus f(x)\\rangle-|1 \\oplus f(x)\\rangle}{\\sqrt{2}} \\Bigg)  |x\\rangle = \\Bigg( \\frac{|f(x)\\rangle-|\\overline{f(x)}\\rangle}{\\sqrt{2}} \\Bigg)  |x\\rangle$$\n",
    "\n",
    "$$= \\begin{cases}\n",
    "    \\Big(\\frac{|0\\rangle - |1\\rangle}{\\sqrt{2}} \\Big) |x\\rangle,& \\text{if $f(x) = 0$} \\\\\n",
    "    \\Big(\\frac{|1\\rangle - |0\\rangle}{\\sqrt{2}} \\Big) |x\\rangle,& \\text{if $f(x) = 1$}\n",
    "\\end{cases}$$\n",
    "\n",
    "$$= \\Big(\\frac{|0\\rangle - |1\\rangle}{\\sqrt{2}} \\Big) (-1)^{f(x)}|x\\rangle$$\n",
    "\n",
    "Placing $|x\\rangle$ back into a superposition from state $|0\\rangle$ gives us:\n",
    "\n",
    "$$|\\Psi_2\\rangle = U_f |\\Psi_1\\rangle = \\Bigg( \\frac{|0\\rangle-|1\\rangle}{\\sqrt{2}} \\Bigg) \\Bigg( \\frac{(-1)^{f(0)}|0\\rangle + (-1)^{f(1)}|1\\rangle}{\\sqrt{2}} \\Bigg)$$\n",
    "\n",
    "Conveniently, this state is different for constant and balanced functions.\n",
    "\n",
    "$$|\\Psi_2\\rangle = \\begin{cases}\n",
    "                       (\\pm 1) \\Big(\\frac{|0\\rangle - |1\\rangle}{\\sqrt{2}} \\Big) \\Big(\\frac{|0\\rangle + |1\\rangle}{\\sqrt{2}} \\Big),& \\text{if $f$ is constant} \\\\\n",
    "                       (\\pm 1) \\Big(\\frac{|0\\rangle - |1\\rangle}{\\sqrt{2}} \\Big) \\Big(\\frac{|0\\rangle - |1\\rangle}{\\sqrt{2}} \\Big),& \\text{if $f$ is balanced}\n",
    "                   \\end{cases} $$\n",
    "                   \n",
    "We can now just apply the Hadamard gate on qubit zero to find out whether the function is constant or balanced, all with only one call to the function!\n",
    "\n",
    "$$|\\Psi_3\\rangle = I\\otimes H |\\Psi_2\\rangle = \\begin{cases}\n",
    "                       (\\pm 1) \\Big(\\frac{|0\\rangle - |1\\rangle}{\\sqrt{2}} \\Big) |0\\rangle,& \\text{if $f$ is constant} \\\\\n",
    "                       (\\pm 1) \\Big(\\frac{|0\\rangle - |1\\rangle}{\\sqrt{2}} \\Big) |1\\rangle,& \\text{if $f$ is balanced}\n",
    "                   \\end{cases} $$"
   ]
  },
  {
   "cell_type": "markdown",
   "metadata": {},
   "source": [
    "We can also do the matrix multiplication.\n",
    "\n",
    "$$|\\Psi_0\\rangle = |1\\rangle \\otimes |0\\rangle = \\begin{bmatrix} 0 \\\\ 1 \\end{bmatrix} \\otimes \\begin{bmatrix} 1 \\\\ 0 \\end{bmatrix} = \\begin{bmatrix} 0\\\\0\\\\1\\\\0 \\end{bmatrix} \\quad |10\\rangle$$\n",
    "\n",
    "$$|\\Psi_1\\rangle = H \\otimes H |\\Psi_0\\rangle = \\frac{1}{2}\\begin{bmatrix} 1&1&1&1 \\\\ 1&-1&1&-1 \\\\ 1&1&-1&-1 \\\\ 1&-1&-1&1 \\end{bmatrix} \\begin{bmatrix} 0\\\\0\\\\1\\\\0 \\end{bmatrix} = \\frac{1}{2} \\begin{bmatrix} 1\\\\1\\\\-1\\\\-1 \\end{bmatrix} \\quad \\Big[\\frac{|0\\rangle - |1\\rangle}{\\sqrt{2}}\\Big]\\Big[\\frac{|0\\rangle + |1\\rangle}{\\sqrt{2}}\\Big]  = \\frac{|00\\rangle + |01\\rangle - |10\\rangle - |11\\rangle}{2}$$\n",
    "\n",
    "Let us use the balanced_op1 matrix on state $|\\Psi_1\\rangle$.\n",
    "\n",
    "$$|\\Psi_2\\rangle = U_f |\\Psi_1\\rangle = \\begin{bmatrix} 1&0&0&0 \\\\ 0&0&0&1 \\\\ 0&0&1&0 \\\\ 0&1&0&0 \\end{bmatrix} \\frac{1}{2} \\begin{bmatrix} 1\\\\1\\\\-1\\\\-1 \\end{bmatrix} = \\frac{1}{2} \\begin{bmatrix} 1\\\\-1\\\\-1\\\\1 \\end{bmatrix} \\quad  \\Big[\\frac{|0\\rangle - |1\\rangle}{\\sqrt{2}}\\Big]\\Big[\\frac{|0\\rangle - |1\\rangle}{\\sqrt{2}}\\Big] = \\frac{|00\\rangle - |01\\rangle - |10\\rangle + |11\\rangle}{2}$$\n",
    "\n",
    "This algorithm makes use of what is called 'phase kickback'. $U_f$ is designed to leave qubit zero as it is and potentially alter qubit one based on the result of $f(x)$. However, in this situation, qubit zero's phase has been flipped due to qubit one being in the $|-\\rangle$ state. This principle is what makes the algorithm work.\n",
    "\n",
    "$$|\\Psi_3\\rangle = I\\otimes H |\\Psi_2\\rangle = \\frac{1}{\\sqrt{2}}\\begin{bmatrix} 1&1&0&0 \\\\ 1&-1&0&0 \\\\ 0&0&1&1 \\\\ 0&0&1&-1 \\end{bmatrix} \\frac{1}{2} \\begin{bmatrix} 1\\\\-1\\\\-1\\\\1 \\end{bmatrix} = \\frac{1}{\\sqrt{2}} \\begin{bmatrix} 0\\\\1\\\\0\\\\-1 \\end{bmatrix} \\quad \\Big[\\frac{|0\\rangle - |1\\rangle}{\\sqrt{2}}\\Big] |1\\rangle $$\n",
    "\n",
    "Thus qubit zero is always measured in state $|1\\rangle$, confirming that our function was balanced. The math works out!"
   ]
  },
  {
   "cell_type": "code",
   "execution_count": null,
   "metadata": {},
   "outputs": [],
   "source": []
  }
 ],
 "metadata": {
  "kernelspec": {
   "display_name": "Python 3",
   "language": "python",
   "name": "python3"
  },
  "language_info": {
   "codemirror_mode": {
    "name": "ipython",
    "version": 3
   },
   "file_extension": ".py",
   "mimetype": "text/x-python",
   "name": "python",
   "nbconvert_exporter": "python",
   "pygments_lexer": "ipython3",
   "version": "3.6.7"
  }
 },
 "nbformat": 4,
 "nbformat_minor": 2
}
